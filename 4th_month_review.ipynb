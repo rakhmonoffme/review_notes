{
 "cells": [
  {
   "cell_type": "code",
   "execution_count": 1,
   "id": "eb8b92e2",
   "metadata": {},
   "outputs": [],
   "source": [
    "import pandas as pd "
   ]
  },
  {
   "cell_type": "markdown",
   "id": "e437e3a2",
   "metadata": {},
   "source": [
    "# CI/CD pipeline"
   ]
  },
  {
   "cell_type": "markdown",
   "id": "b0a9898d",
   "metadata": {},
   "source": [
    "CI - Continous  Integration, jarayonni deploymentgacha avtomatlashtirish.\n",
    "Requirements: VS code + GitHub\n",
    "CD - Continous Deployment, jarayonni deploymentdan keyin avtomatlashtirish.\n",
    "Requirements: VS code + GitHub +  Azure"
   ]
  },
  {
   "cell_type": "markdown",
   "id": "17b09199",
   "metadata": {},
   "source": [
    "# Professional Setup "
   ]
  },
  {
   "cell_type": "markdown",
   "id": "3775dee3",
   "metadata": {},
   "source": [
    "Set up (barchasini oldindan tayyorlab olish):\n",
    "- folder structure - organizing your project (data, config, model, etc.)\n",
    "- virtual envronment - keeping your project isolated\n",
    "- git - version control, tracking changes\n",
    "- config files  - storing parameters and managing them\n",
    "- gitignore - ignoring files and folders that are unnecessary for your project\n",
    "- requirements.txt - storing dependencies\n",
    "-logging and error handling - logging your progress and errors\n",
    "- automation tools - automating your workflow\n",
    "- Readme and documentation - writing a readme and documentation for your project\n",
    "\n"
   ]
  },
  {
   "cell_type": "markdown",
   "id": "b7d17813",
   "metadata": {},
   "source": [
    "Set up nima uchun kerak?\n",
    "- Model qurish;\n",
    "- Test qilish;\n",
    "- Ulashish;\n",
    "- Xatolarni to'g'rilash;\n",
    "- Turli holatlarga chidamli (Data/Concept drift);\n",
    "- Deployment qilish."
   ]
  },
  {
   "cell_type": "markdown",
   "id": "38dd4167",
   "metadata": {},
   "source": [
    "Set up guide:\n",
    "- New Github repo\n",
    "- New folder in local and copy folder path\n",
    "- Run \"cd  and folder path\"\n",
    "- Run \"code .\" next, it will open vscode\n",
    "- Run this code on vscode terminal \"conda create -p venv python==3.13.2\" - create virtual environment\n",
    "- git status (to check status)\n",
    "- clear (on cmd)"
   ]
  },
  {
   "cell_type": "markdown",
   "id": "72aced00",
   "metadata": {},
   "source": [
    "    Github commands"
   ]
  },
  {
   "cell_type": "markdown",
   "id": "1820310b",
   "metadata": {},
   "source": [
    "- git init : initialize a new repository\n",
    "- git add .   : add all files\n",
    "- git commit -m \"first commit\" :  commit\n",
    "- git remote add origin https://github.com/rakhmonoffme/NewRepo.git  :  add remote\n",
    "- git push -u origin main :  push\n",
    "- git pull origin main :  pull \n",
    "- git status :  check status\n",
    "\n",
    "\n",
    "git clone https://github.com/rakhmonoffme/NewRepo.git"
   ]
  },
  {
   "cell_type": "markdown",
   "id": "ee619e6c",
   "metadata": {},
   "source": [
    "    setup.py"
   ]
  },
  {
   "cell_type": "markdown",
   "id": "df38518c",
   "metadata": {},
   "source": [
    "we can use setup.py to install our model. \n",
    "order of release: 1.0.0 or 1.1.0, - Major, Minor, Patch"
   ]
  },
  {
   "cell_type": "markdown",
   "id": "f516c626",
   "metadata": {},
   "source": [
    "__init__.py package ichidagi modullarni import qilish va boshlash uchun boshlangich kod file. \n",
    "empty bolishi mumkin yoki configuration code lar ham yozilishi mumkin"
   ]
  },
  {
   "cell_type": "markdown",
   "id": "9b28ef69",
   "metadata": {},
   "source": [
    "    Project Structure"
   ]
  },
  {
   "cell_type": "markdown",
   "id": "51e2cfac",
   "metadata": {},
   "source": [
    "Project Structure: file, folder modullarni joy joyiga qoyish. \n",
    "Modul - related to code reusability. to organize code. \n",
    "- src folder: source code \n",
    "- test folder: test code\n",
    "- requirements.txt: list of dependencies\n",
    "- README.md: project description\n",
    "- .gitignore: list of files to ignore\n",
    "- components: folder for components\n",
    "- pipeline folder: run the project and store the data"
   ]
  },
  {
   "cell_type": "markdown",
   "id": "1f46e122",
   "metadata": {},
   "source": [
    "Creating a virtual environment\n",
    "1. create a folder for the project\n",
    "2. open the terminal and navigate to the project folder (cd <project_folder> and code  .)\n",
    "3. conda create -n <env_name> python=3.9.6 - create a virtual environment\n",
    "4. conda activate <env_name> - activate the virtual environment\n",
    "5. create a repository without readme and gitignore files\n",
    "6. git initialize"
   ]
  },
  {
   "cell_type": "code",
   "execution_count": null,
   "id": "a6ed2304",
   "metadata": {},
   "outputs": [],
   "source": [
    "from setuptools import setup, find_packages\n",
    "from typing import List\n",
    "\n",
    "\n",
    "def get_requirements(file_path:str) -> list[str]:\n",
    "    \"\"\"\n",
    "    This function reads a requirements file and returns a list of packages.\n",
    "    \"\"\"\n",
    "    with open(file_path) as file_obj:\n",
    "        requirements = file_obj.readlines()  # read lines from the fil\n",
    "        requirements = [req.replace('\\n',\"\") for req in requirements]  # Remove any whitespace characters like `\\n` at the end of each line\n",
    "        if HYPEN_E_DOT in requirements:  # if '-e .' is in the requirements, remove it\n",
    "            requirements.remove(HYPEN_E_DOT)\n",
    "        \n",
    "    return requirements  #  return the list of packages\n",
    "    \n",
    "HYPEN_E_DOT = '-e .'\n",
    "setup (\n",
    "    name = \"VirtualEnvironmentCreation\",\n",
    "    version = \"0.1.0\",\n",
    "    author = \"rakhmonoff\",\n",
    "    author_email = \"boburshakh1998@gmail.com\",\n",
    "    description = \"A simple script to create a virtual environment and install packages\",\n",
    "\n",
    "    packages = find_packages(),\n",
    "    # install_requires = ['pandas', 'numpy', 'scikit-learn', 'matplotlib', 'seaborn'],\n",
    "    install_requires = get_requirements('requirements.txt'),\n",
    "    \n",
    ")"
   ]
  },
  {
   "cell_type": "markdown",
   "id": "fce879ee",
   "metadata": {},
   "source": [
    "# Exception Handling "
   ]
  },
  {
   "cell_type": "markdown",
   "id": "17ca3339",
   "metadata": {},
   "source": [
    "Exception - dastur ishlashda xatolik yuzaga kelganda bu xatolikni tizimga habar berish uchun ishlatiladi\n",
    "maqsad: kodni barqaroq va ishonchli  qilish\n"
   ]
  }
 ],
 "metadata": {
  "kernelspec": {
   "display_name": "Python 3",
   "language": "python",
   "name": "python3"
  },
  "language_info": {
   "codemirror_mode": {
    "name": "ipython",
    "version": 3
   },
   "file_extension": ".py",
   "mimetype": "text/x-python",
   "name": "python",
   "nbconvert_exporter": "python",
   "pygments_lexer": "ipython3",
   "version": "3.9.6"
  }
 },
 "nbformat": 4,
 "nbformat_minor": 5
}
